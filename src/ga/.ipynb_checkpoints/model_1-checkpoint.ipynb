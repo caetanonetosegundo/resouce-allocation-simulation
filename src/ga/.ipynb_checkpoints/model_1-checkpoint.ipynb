{
 "cells": [
  {
   "cell_type": "code",
   "execution_count": 2,
   "metadata": {
    "pycharm": {
     "is_executing": true
    }
   },
   "outputs": [
    {
     "name": "stdout",
     "output_type": "stream",
     "text": [
      "Import Done!\n"
     ]
    }
   ],
   "source": [
    "import pandas as pd\n",
    "import numpy as np\n",
    "import random\n",
    "from deap import base\n",
    "from deap import creator\n",
    "from deap import tools\n",
    "print(\"Import Done!\")"
   ]
  },
  {
   "cell_type": "code",
   "execution_count": 6,
   "metadata": {
    "pycharm": {
     "name": "#%%\n"
    }
   },
   "outputs": [
    {
     "name": "stdout",
     "output_type": "stream",
     "text": [
      "Proteina 5250\n",
      "Carboidrato 8750 \n",
      "Gordura 3500 \n",
      "\n",
      "Proteina 1312.5g\n",
      "Carboidrato 2187.5g \n",
      "Gordura 388.8888888888889g \n"
     ]
    }
   ],
   "source": [
    "# Percential Objetivo\n",
    "# No caso do Truck Factor seria uma solução aceitável, onde apresentaria que a divisão de tarefas\n",
    "# permitindo o compartilhamento de conhecimento da equipe.\n",
    "total_calories = 2500 * 7\n",
    "percentage_prot = 0.3\n",
    "percentage_carb = 0.5\n",
    "percentage_fat = 0.2\n",
    "\n",
    "# compute total calories per macro\n",
    "cal_prot = round(percentage_prot * total_calories)\n",
    "cal_carb = round(percentage_carb * total_calories)\n",
    "cal_fat = round(percentage_fat * total_calories)\n",
    "print(\"Proteina {}\\nCarboidrato {} \\nGordura {} \".format(cal_prot, cal_carb, cal_fat))\n",
    "\n",
    "# fixed info on macro nutriments: calories per gram of protein, carb and fat\n",
    "prot_cal_p_gram = 4\n",
    "carb_cal_p_gram = 4\n",
    "fat_cal_p_gram = 9\n",
    "\n",
    "#goal grams\n",
    "gram_prot = cal_prot / prot_cal_p_gram\n",
    "gram_carb = cal_carb / carb_cal_p_gram\n",
    "gram_fat = cal_fat / fat_cal_p_gram\n",
    "print(\"\\nProteina {}g\\nCarboidrato {}g \\nGordura {}g \".format(gram_prot, gram_carb, gram_fat))"
   ]
  },
  {
   "cell_type": "code",
   "execution_count": 8,
   "metadata": {
    "pycharm": {
     "name": "#%%\n"
    }
   },
   "outputs": [
    {
     "data": {
      "text/html": [
       "<div>\n",
       "<style scoped>\n",
       "    .dataframe tbody tr th:only-of-type {\n",
       "        vertical-align: middle;\n",
       "    }\n",
       "\n",
       "    .dataframe tbody tr th {\n",
       "        vertical-align: top;\n",
       "    }\n",
       "\n",
       "    .dataframe thead th {\n",
       "        text-align: right;\n",
       "    }\n",
       "</style>\n",
       "<table border=\"1\" class=\"dataframe\">\n",
       "  <thead>\n",
       "    <tr style=\"text-align: right;\">\n",
       "      <th></th>\n",
       "      <th>Name</th>\n",
       "      <th>Min</th>\n",
       "      <th>Max</th>\n",
       "      <th>Calories</th>\n",
       "      <th>Gram_Prot</th>\n",
       "      <th>Gram_Fat</th>\n",
       "      <th>Gram_Carb</th>\n",
       "    </tr>\n",
       "  </thead>\n",
       "  <tbody>\n",
       "    <tr>\n",
       "      <th>0</th>\n",
       "      <td>Banana 1u</td>\n",
       "      <td>0</td>\n",
       "      <td>4</td>\n",
       "      <td>89</td>\n",
       "      <td>1</td>\n",
       "      <td>0</td>\n",
       "      <td>23</td>\n",
       "    </tr>\n",
       "    <tr>\n",
       "      <th>1</th>\n",
       "      <td>Mandarin 1u</td>\n",
       "      <td>0</td>\n",
       "      <td>4</td>\n",
       "      <td>40</td>\n",
       "      <td>1</td>\n",
       "      <td>0</td>\n",
       "      <td>10</td>\n",
       "    </tr>\n",
       "    <tr>\n",
       "      <th>2</th>\n",
       "      <td>Ananas 100g</td>\n",
       "      <td>0</td>\n",
       "      <td>7</td>\n",
       "      <td>50</td>\n",
       "      <td>1</td>\n",
       "      <td>0</td>\n",
       "      <td>13</td>\n",
       "    </tr>\n",
       "    <tr>\n",
       "      <th>3</th>\n",
       "      <td>Grapes 100g</td>\n",
       "      <td>0</td>\n",
       "      <td>7</td>\n",
       "      <td>76</td>\n",
       "      <td>1</td>\n",
       "      <td>0</td>\n",
       "      <td>17</td>\n",
       "    </tr>\n",
       "    <tr>\n",
       "      <th>4</th>\n",
       "      <td>Chocolate 1 bar</td>\n",
       "      <td>0</td>\n",
       "      <td>4</td>\n",
       "      <td>230</td>\n",
       "      <td>3</td>\n",
       "      <td>13</td>\n",
       "      <td>25</td>\n",
       "    </tr>\n",
       "    <tr>\n",
       "      <th>5</th>\n",
       "      <td>Hard Cheese 100g</td>\n",
       "      <td>0</td>\n",
       "      <td>8</td>\n",
       "      <td>350</td>\n",
       "      <td>28</td>\n",
       "      <td>26</td>\n",
       "      <td>2</td>\n",
       "    </tr>\n",
       "    <tr>\n",
       "      <th>6</th>\n",
       "      <td>Soft Cheese 100g</td>\n",
       "      <td>0</td>\n",
       "      <td>8</td>\n",
       "      <td>374</td>\n",
       "      <td>18</td>\n",
       "      <td>33</td>\n",
       "      <td>1</td>\n",
       "    </tr>\n",
       "    <tr>\n",
       "      <th>7</th>\n",
       "      <td>Pesto 100g</td>\n",
       "      <td>0</td>\n",
       "      <td>8</td>\n",
       "      <td>303</td>\n",
       "      <td>3</td>\n",
       "      <td>30</td>\n",
       "      <td>4</td>\n",
       "    </tr>\n",
       "    <tr>\n",
       "      <th>8</th>\n",
       "      <td>Hoummous 100g</td>\n",
       "      <td>0</td>\n",
       "      <td>8</td>\n",
       "      <td>306</td>\n",
       "      <td>7</td>\n",
       "      <td>25</td>\n",
       "      <td>11</td>\n",
       "    </tr>\n",
       "    <tr>\n",
       "      <th>9</th>\n",
       "      <td>Aubergine Paste 100g</td>\n",
       "      <td>0</td>\n",
       "      <td>4</td>\n",
       "      <td>228</td>\n",
       "      <td>1</td>\n",
       "      <td>20</td>\n",
       "      <td>8</td>\n",
       "    </tr>\n",
       "    <tr>\n",
       "      <th>10</th>\n",
       "      <td>Protein Shake</td>\n",
       "      <td>0</td>\n",
       "      <td>5</td>\n",
       "      <td>160</td>\n",
       "      <td>30</td>\n",
       "      <td>3</td>\n",
       "      <td>5</td>\n",
       "    </tr>\n",
       "    <tr>\n",
       "      <th>11</th>\n",
       "      <td>Veggie Burger 1</td>\n",
       "      <td>0</td>\n",
       "      <td>5</td>\n",
       "      <td>220</td>\n",
       "      <td>21</td>\n",
       "      <td>12</td>\n",
       "      <td>3</td>\n",
       "    </tr>\n",
       "    <tr>\n",
       "      <th>12</th>\n",
       "      <td>Veggie Burger 2</td>\n",
       "      <td>0</td>\n",
       "      <td>12</td>\n",
       "      <td>165</td>\n",
       "      <td>16</td>\n",
       "      <td>9</td>\n",
       "      <td>2</td>\n",
       "    </tr>\n",
       "    <tr>\n",
       "      <th>13</th>\n",
       "      <td>Boiled Egg</td>\n",
       "      <td>0</td>\n",
       "      <td>8</td>\n",
       "      <td>155</td>\n",
       "      <td>13</td>\n",
       "      <td>11</td>\n",
       "      <td>1</td>\n",
       "    </tr>\n",
       "    <tr>\n",
       "      <th>14</th>\n",
       "      <td>Backed Egg</td>\n",
       "      <td>0</td>\n",
       "      <td>16</td>\n",
       "      <td>196</td>\n",
       "      <td>14</td>\n",
       "      <td>15</td>\n",
       "      <td>1</td>\n",
       "    </tr>\n",
       "    <tr>\n",
       "      <th>15</th>\n",
       "      <td>Baguette Bread Half</td>\n",
       "      <td>0</td>\n",
       "      <td>3</td>\n",
       "      <td>274</td>\n",
       "      <td>10</td>\n",
       "      <td>0</td>\n",
       "      <td>52</td>\n",
       "    </tr>\n",
       "    <tr>\n",
       "      <th>16</th>\n",
       "      <td>Square Bread 1 slice</td>\n",
       "      <td>0</td>\n",
       "      <td>3</td>\n",
       "      <td>97</td>\n",
       "      <td>3</td>\n",
       "      <td>1</td>\n",
       "      <td>17</td>\n",
       "    </tr>\n",
       "    <tr>\n",
       "      <th>17</th>\n",
       "      <td>Cheese Pizza 1u</td>\n",
       "      <td>0</td>\n",
       "      <td>3</td>\n",
       "      <td>903</td>\n",
       "      <td>36</td>\n",
       "      <td>47</td>\n",
       "      <td>81</td>\n",
       "    </tr>\n",
       "    <tr>\n",
       "      <th>18</th>\n",
       "      <td>Veggie Pizza 1u</td>\n",
       "      <td>0</td>\n",
       "      <td>3</td>\n",
       "      <td>766</td>\n",
       "      <td>26</td>\n",
       "      <td>35</td>\n",
       "      <td>85</td>\n",
       "    </tr>\n",
       "    <tr>\n",
       "      <th>19</th>\n",
       "      <td>Soy Milk 200ml</td>\n",
       "      <td>0</td>\n",
       "      <td>1</td>\n",
       "      <td>115</td>\n",
       "      <td>8</td>\n",
       "      <td>4</td>\n",
       "      <td>11</td>\n",
       "    </tr>\n",
       "    <tr>\n",
       "      <th>20</th>\n",
       "      <td>Soy Chocolate Milk 250ml</td>\n",
       "      <td>0</td>\n",
       "      <td>3</td>\n",
       "      <td>160</td>\n",
       "      <td>7</td>\n",
       "      <td>6</td>\n",
       "      <td>20</td>\n",
       "    </tr>\n",
       "  </tbody>\n",
       "</table>\n",
       "</div>"
      ],
      "text/plain": [
       "                        Name  Min  Max  Calories  Gram_Prot  Gram_Fat  \\\n",
       "0                  Banana 1u    0    4        89          1         0   \n",
       "1                Mandarin 1u    0    4        40          1         0   \n",
       "2                Ananas 100g    0    7        50          1         0   \n",
       "3                Grapes 100g    0    7        76          1         0   \n",
       "4            Chocolate 1 bar    0    4       230          3        13   \n",
       "5           Hard Cheese 100g    0    8       350         28        26   \n",
       "6           Soft Cheese 100g    0    8       374         18        33   \n",
       "7                 Pesto 100g    0    8       303          3        30   \n",
       "8              Hoummous 100g    0    8       306          7        25   \n",
       "9       Aubergine Paste 100g    0    4       228          1        20   \n",
       "10             Protein Shake    0    5       160         30         3   \n",
       "11           Veggie Burger 1    0    5       220         21        12   \n",
       "12           Veggie Burger 2    0   12       165         16         9   \n",
       "13                Boiled Egg    0    8       155         13        11   \n",
       "14                Backed Egg    0   16       196         14        15   \n",
       "15       Baguette Bread Half    0    3       274         10         0   \n",
       "16      Square Bread 1 slice    0    3        97          3         1   \n",
       "17           Cheese Pizza 1u    0    3       903         36        47   \n",
       "18           Veggie Pizza 1u    0    3       766         26        35   \n",
       "19            Soy Milk 200ml    0    1       115          8         4   \n",
       "20  Soy Chocolate Milk 250ml    0    3       160          7         6   \n",
       "\n",
       "    Gram_Carb  \n",
       "0          23  \n",
       "1          10  \n",
       "2          13  \n",
       "3          17  \n",
       "4          25  \n",
       "5           2  \n",
       "6           1  \n",
       "7           4  \n",
       "8          11  \n",
       "9           8  \n",
       "10          5  \n",
       "11          3  \n",
       "12          2  \n",
       "13          1  \n",
       "14          1  \n",
       "15         52  \n",
       "16         17  \n",
       "17         81  \n",
       "18         85  \n",
       "19         11  \n",
       "20         20  "
      ]
     },
     "execution_count": 8,
     "metadata": {},
     "output_type": "execute_result"
    }
   ],
   "source": [
    "products_table = pd.DataFrame.from_records([\n",
    "    ['Banana 1u', 0, 4, 89, 1, 0, 23],\n",
    "    ['Mandarin 1u', 0, 4, 40, 1, 0, 10],\n",
    "    ['Ananas 100g', 0, 7, 50, 1, 0, 13],\n",
    "    ['Grapes 100g', 0, 7, 76, 1, 0, 17],\n",
    "    ['Chocolate 1 bar', 0, 4, 230, 3, 13, 25],\n",
    "\n",
    "    ['Hard Cheese 100g', 0, 8, 350, 28, 26, 2],\n",
    "    ['Soft Cheese 100g', 0, 8, 374, 18, 33, 1],\n",
    "    ['Pesto 100g', 0, 8, 303, 3, 30, 4],\n",
    "    ['Hoummous 100g', 0, 8, 306, 7, 25, 11],\n",
    "    ['Aubergine Paste 100g', 0, 4, 228, 1, 20, 8],\n",
    "\n",
    "    ['Protein Shake', 0, 5, 160, 30, 3, 5],\n",
    "    ['Veggie Burger 1', 0, 5, 220, 21, 12, 3],\n",
    "    ['Veggie Burger 2', 0, 12, 165, 16, 9, 2],\n",
    "    ['Boiled Egg', 0, 8, 155, 13, 11, 1],\n",
    "    ['Backed Egg', 0, 16, 196, 14, 15, 1],\n",
    "\n",
    "    ['Baguette Bread Half', 0, 3, 274, 10, 0, 52],\n",
    "    ['Square Bread 1 slice', 0, 3, 97, 3, 1, 17],\n",
    "    ['Cheese Pizza 1u', 0, 3, 903, 36, 47, 81],\n",
    "    ['Veggie Pizza 1u', 0, 3, 766, 26, 35, 85],\n",
    "\n",
    "    ['Soy Milk 200ml', 0, 1, 115, 8, 4, 11],\n",
    "    ['Soy Chocolate Milk 250ml', 0, 3, 160, 7, 6,20],\n",
    "\n",
    "])\n",
    "products_table.columns = ['Name', 'Min', 'Max', 'Calories', 'Gram_Prot', 'Gram_Fat', 'Gram_Carb']\n",
    "products_table\n"
   ]
  },
  {
   "cell_type": "code",
   "execution_count": 9,
   "metadata": {
    "pycharm": {
     "name": "#%%\n"
    }
   },
   "outputs": [],
   "source": [
    "cal_data = products_table[['Gram_Prot', 'Gram_Fat', 'Gram_Carb']]\n",
    "prot_data = list(cal_data['Gram_Prot'])\n",
    "fat_data = list(cal_data['Gram_Fat'])\n",
    "carb_data = list(cal_data['Gram_Carb'])"
   ]
  },
  {
   "cell_type": "code",
   "execution_count": 11,
   "metadata": {
    "pycharm": {
     "name": "#%%\n"
    }
   },
   "outputs": [],
   "source": [
    "def n_per_product():\n",
    "    return random.choices( range(0, 10), k = 21)"
   ]
  },
  {
   "cell_type": "code",
   "execution_count": 12,
   "metadata": {
    "pycharm": {
     "name": "#%%\n"
    }
   },
   "outputs": [],
   "source": [
    "def evaluate(individual):\n",
    "    individual = individual[0]\n",
    "    tot_prot = sum(x*y for x,y in zip(prot_data,individual))\n",
    "    tot_fat = sum(x*y for x,y in zip(fat_data,individual))\n",
    "    tot_carb = sum(x*y for x,y in zip(carb_data,individual))\n",
    "    cals = prot_cal_p_gram * tot_prot + carb_cal_p_gram * tot_carb + fat_cal_p_gram * tot_fat\n",
    "    return abs(cals - total_calories),"
   ]
  },
  {
   "cell_type": "code",
   "execution_count": 13,
   "metadata": {
    "pycharm": {
     "name": "#%%\n"
    }
   },
   "outputs": [],
   "source": [
    "creator.create(\"FitnessMin\", base.Fitness, weights=(-1.0,))\n",
    "creator.create(\"Individual\", list, fitness=creator.FitnessMin)\n",
    "\n",
    "toolbox = base.Toolbox()\n",
    "\n",
    "toolbox.register(\"n_per_product\", n_per_product)\n",
    "\n",
    "toolbox.register(\"individual\", tools.initRepeat, creator.Individual, toolbox.n_per_product, n=1)\n",
    "toolbox.register(\"population\", tools.initRepeat, list, toolbox.individual)\n",
    "\n",
    "toolbox.register(\"evaluate\", evaluate)\n",
    "toolbox.register(\"mate\", tools.cxTwoPoint)\n",
    "toolbox.register(\"mutate\", tools.mutFlipBit, indpb=0.05)\n",
    "toolbox.register(\"select\", tools.selTournament, tournsize=3)\n"
   ]
  },
  {
   "cell_type": "code",
   "execution_count": 14,
   "metadata": {
    "pycharm": {
     "name": "#%%\n"
    }
   },
   "outputs": [
    {
     "data": {
      "text/plain": [
       "[[[5, 6, 5, 4, 9, 6, 0, 0, 1, 2, 5, 8, 5, 8, 2, 7, 4, 2, 7, 6, 0]],\n",
       " [[2, 2, 4, 4, 8, 3, 1, 2, 7, 2, 2, 9, 9, 5, 0, 5, 2, 1, 5, 3, 1]],\n",
       " [[2, 1, 7, 4, 0, 2, 8, 0, 7, 2, 7, 8, 6, 7, 7, 9, 9, 6, 2, 5, 8]],\n",
       " [[3, 5, 8, 3, 4, 2, 7, 1, 2, 5, 5, 9, 0, 0, 0, 7, 2, 2, 2, 7, 2]],\n",
       " [[8, 1, 0, 6, 4, 5, 0, 9, 0, 8, 5, 4, 1, 6, 8, 0, 9, 5, 9, 7, 3]],\n",
       " [[4, 9, 0, 7, 5, 3, 9, 8, 9, 8, 3, 5, 4, 8, 9, 1, 1, 2, 1, 3, 2]],\n",
       " [[5, 2, 3, 4, 9, 9, 0, 4, 9, 1, 6, 1, 7, 3, 6, 9, 1, 0, 0, 5, 1]],\n",
       " [[7, 8, 3, 9, 8, 2, 3, 3, 9, 6, 6, 4, 8, 6, 2, 0, 5, 8, 4, 9, 5]],\n",
       " [[1, 6, 3, 6, 5, 3, 3, 6, 8, 5, 3, 6, 2, 0, 1, 6, 3, 0, 6, 6, 0]],\n",
       " [[0, 0, 2, 9, 6, 9, 2, 4, 5, 9, 2, 2, 4, 3, 2, 1, 5, 9, 2, 9, 6]]]"
      ]
     },
     "execution_count": 14,
     "metadata": {},
     "output_type": "execute_result"
    }
   ],
   "source": [
    "toolbox.population(n=10)\n"
   ]
  },
  {
   "cell_type": "code",
   "execution_count": 15,
   "metadata": {
    "pycharm": {
     "name": "#%%\n"
    }
   },
   "outputs": [
    {
     "name": "stdout",
     "output_type": "stream",
     "text": [
      "Done\n"
     ]
    }
   ],
   "source": [
    "def main():\n",
    "    pop = toolbox.population(n=300)\n",
    "\n",
    "    # Evaluate the entire population\n",
    "    fitnesses = list(map(toolbox.evaluate, pop))\n",
    "    for ind, fit in zip(pop, fitnesses):\n",
    "        ind.fitness.values = fit\n",
    "\n",
    "    # CXPB  is the probability with which two individuals\n",
    "    #       are crossed\n",
    "    #\n",
    "    # MUTPB is the probability for mutating an individual\n",
    "    CXPB, MUTPB = 0.5, 0.2\n",
    "\n",
    "    # Extracting all the fitnesses of\n",
    "    fits = [ind.fitness.values[0] for ind in pop]\n",
    "\n",
    "    # Variable keeping track of the number of generations\n",
    "    g = 0\n",
    "\n",
    "    # Begin the evolution\n",
    "    while g < 5000:\n",
    "        # A new generation\n",
    "        g = g + 1\n",
    "        #print(\"-- Generation %i --\" % g)\n",
    "\n",
    "        # Select the next generation individuals\n",
    "        offspring = toolbox.select(pop, len(pop))\n",
    "        # Clone the selected individuals\n",
    "        offspring = list(map(toolbox.clone, offspring))\n",
    "\n",
    "        # Apply crossover and mutation on the offspring\n",
    "        for child1, child2 in zip(offspring[::2], offspring[1::2]):\n",
    "            if random.random() < CXPB:\n",
    "                toolbox.mate(child1[0], child2[0])\n",
    "                del child1.fitness.values\n",
    "                del child2.fitness.values\n",
    "\n",
    "        for mutant in offspring:\n",
    "            if random.random() < MUTPB:\n",
    "                toolbox.mutate(mutant[0])\n",
    "                del mutant.fitness.values\n",
    "\n",
    "        # Evaluate the individuals with an invalid fitness\n",
    "        invalid_ind = [ind for ind in offspring if not ind.fitness.valid]\n",
    "        fitnesses = map(toolbox.evaluate, invalid_ind)\n",
    "        for ind, fit in zip(invalid_ind, fitnesses):\n",
    "            ind.fitness.values = fit\n",
    "\n",
    "        pop[:] = offspring\n",
    "\n",
    "        # Gather all the fitnesses in one list and print the stats\n",
    "        fits = [ind.fitness.values[0] for ind in pop]\n",
    "\n",
    "        length = len(pop)\n",
    "        mean = sum(fits) / length\n",
    "        sum2 = sum(x*x for x in fits)\n",
    "        std = abs(sum2 / length - mean**2)**0.5\n",
    "\n",
    "        #print(min(fits), max(fits), mean, std)\n",
    "\n",
    "    best = pop[np.argmin([toolbox.evaluate(x) for x in pop])]\n",
    "    return best\n",
    "print(\"Done\")"
   ]
  },
  {
   "cell_type": "code",
   "execution_count": 16,
   "metadata": {
    "pycharm": {
     "name": "#%%\n"
    }
   },
   "outputs": [
    {
     "name": "stdout",
     "output_type": "stream",
     "text": [
      "Done\n"
     ]
    }
   ],
   "source": [
    "best_solution = main()\n",
    "print(\"Done\")"
   ]
  },
  {
   "cell_type": "code",
   "execution_count": 20,
   "metadata": {
    "pycharm": {
     "name": "#%%\n"
    }
   },
   "outputs": [
    {
     "data": {
      "text/html": [
       "<div>\n",
       "<style scoped>\n",
       "    .dataframe tbody tr th:only-of-type {\n",
       "        vertical-align: middle;\n",
       "    }\n",
       "\n",
       "    .dataframe tbody tr th {\n",
       "        vertical-align: top;\n",
       "    }\n",
       "\n",
       "    .dataframe thead th {\n",
       "        text-align: right;\n",
       "    }\n",
       "</style>\n",
       "<table border=\"1\" class=\"dataframe\">\n",
       "  <thead>\n",
       "    <tr style=\"text-align: right;\">\n",
       "      <th></th>\n",
       "      <th>Name</th>\n",
       "      <th>Min</th>\n",
       "      <th>Max</th>\n",
       "      <th>Calories</th>\n",
       "      <th>Gram_Prot</th>\n",
       "      <th>Gram_Fat</th>\n",
       "      <th>Gram_Carb</th>\n",
       "      <th>univariate_choice</th>\n",
       "    </tr>\n",
       "  </thead>\n",
       "  <tbody>\n",
       "    <tr>\n",
       "      <th>0</th>\n",
       "      <td>Banana 1u</td>\n",
       "      <td>0</td>\n",
       "      <td>4</td>\n",
       "      <td>89</td>\n",
       "      <td>1</td>\n",
       "      <td>0</td>\n",
       "      <td>23</td>\n",
       "      <td>9</td>\n",
       "    </tr>\n",
       "    <tr>\n",
       "      <th>1</th>\n",
       "      <td>Mandarin 1u</td>\n",
       "      <td>0</td>\n",
       "      <td>4</td>\n",
       "      <td>40</td>\n",
       "      <td>1</td>\n",
       "      <td>0</td>\n",
       "      <td>10</td>\n",
       "      <td>9</td>\n",
       "    </tr>\n",
       "    <tr>\n",
       "      <th>2</th>\n",
       "      <td>Ananas 100g</td>\n",
       "      <td>0</td>\n",
       "      <td>7</td>\n",
       "      <td>50</td>\n",
       "      <td>1</td>\n",
       "      <td>0</td>\n",
       "      <td>13</td>\n",
       "      <td>0</td>\n",
       "    </tr>\n",
       "    <tr>\n",
       "      <th>3</th>\n",
       "      <td>Grapes 100g</td>\n",
       "      <td>0</td>\n",
       "      <td>7</td>\n",
       "      <td>76</td>\n",
       "      <td>1</td>\n",
       "      <td>0</td>\n",
       "      <td>17</td>\n",
       "      <td>6</td>\n",
       "    </tr>\n",
       "    <tr>\n",
       "      <th>4</th>\n",
       "      <td>Chocolate 1 bar</td>\n",
       "      <td>0</td>\n",
       "      <td>4</td>\n",
       "      <td>230</td>\n",
       "      <td>3</td>\n",
       "      <td>13</td>\n",
       "      <td>25</td>\n",
       "      <td>3</td>\n",
       "    </tr>\n",
       "  </tbody>\n",
       "</table>\n",
       "</div>"
      ],
      "text/plain": [
       "              Name  Min  Max  Calories  Gram_Prot  Gram_Fat  Gram_Carb  \\\n",
       "0        Banana 1u    0    4        89          1         0         23   \n",
       "1      Mandarin 1u    0    4        40          1         0         10   \n",
       "2      Ananas 100g    0    7        50          1         0         13   \n",
       "3      Grapes 100g    0    7        76          1         0         17   \n",
       "4  Chocolate 1 bar    0    4       230          3        13         25   \n",
       "\n",
       "   univariate_choice  \n",
       "0                  9  \n",
       "1                  9  \n",
       "2                  0  \n",
       "3                  6  \n",
       "4                  3  "
      ]
     },
     "execution_count": 20,
     "metadata": {},
     "output_type": "execute_result"
    }
   ],
   "source": [
    "#products_table['univariate_choice'] = pd.Series(best_solution[0])\n",
    "products_table.head()"
   ]
  },
  {
   "cell_type": "code",
   "execution_count": 23,
   "metadata": {
    "pycharm": {
     "name": "#%%\n"
    }
   },
   "outputs": [
    {
     "name": "stdout",
     "output_type": "stream",
     "text": [
      "Done\n"
     ]
    }
   ],
   "source": [
    "products_table['univariate_gr_prot'] = products_table['univariate_choice'] * products_table['Gram_Prot']\n",
    "products_table['univariate_gr_fat'] = products_table['univariate_choice'] * products_table['Gram_Fat']\n",
    "products_table['univariate_gr_carb'] = products_table['univariate_choice'] * products_table['Gram_Carb']\n",
    "products_table['univariate_cal'] = products_table['univariate_choice'] * products_table['Calories']\n",
    "\n",
    "#products_table['multivariate_gr_prot'] = products_table['multivariate_choice'] * products_table['Gram_Prot']\n",
    "#products_table['multivariate_gr_fat'] = products_table['multivariate_choice'] * products_table['Gram_Fat']\n",
    "#products_table['multivariate_gr_carb'] = products_table['multivariate_choice'] * products_table['Gram_Carb']\n",
    "#products_table['multivariate_cal'] = products_table['multivariate_choice'] * products_table['Calories']\n",
    "print(\"Done\")"
   ]
  },
  {
   "cell_type": "code",
   "execution_count": 1,
   "metadata": {
    "pycharm": {
     "name": "#%%\n"
    }
   },
   "outputs": [
    {
     "ename": "NameError",
     "evalue": "name 'pd' is not defined",
     "output_type": "error",
     "traceback": [
      "\u001b[0;31m---------------------------------------------------------------------------\u001b[0m",
      "\u001b[0;31mNameError\u001b[0m                                 Traceback (most recent call last)",
      "\u001b[0;32m<ipython-input-1-4cfcc745137a>\u001b[0m in \u001b[0;36m<module>\u001b[0;34m\u001b[0m\n\u001b[0;32m----> 1\u001b[0;31m summary = pd.DataFrame.from_records(\n\u001b[0m\u001b[1;32m      2\u001b[0m [\n\u001b[1;32m      3\u001b[0m     \u001b[0;34m[\u001b[0m\u001b[0mproducts_table\u001b[0m\u001b[0;34m[\u001b[0m\u001b[0;34m'univariate_gr_prot'\u001b[0m\u001b[0;34m]\u001b[0m\u001b[0;34m.\u001b[0m\u001b[0msum\u001b[0m\u001b[0;34m(\u001b[0m\u001b[0;34m)\u001b[0m\u001b[0;34m,\u001b[0m \u001b[0mproducts_table\u001b[0m\u001b[0;34m[\u001b[0m\u001b[0;34m'multivariate_gr_prot'\u001b[0m\u001b[0;34m]\u001b[0m\u001b[0;34m.\u001b[0m\u001b[0msum\u001b[0m\u001b[0;34m(\u001b[0m\u001b[0;34m)\u001b[0m\u001b[0;34m,\u001b[0m \u001b[0mgram_prot\u001b[0m\u001b[0;34m]\u001b[0m\u001b[0;34m,\u001b[0m\u001b[0;34m\u001b[0m\u001b[0;34m\u001b[0m\u001b[0m\n\u001b[1;32m      4\u001b[0m     \u001b[0;34m[\u001b[0m\u001b[0mproducts_table\u001b[0m\u001b[0;34m[\u001b[0m\u001b[0;34m'univariate_gr_fat'\u001b[0m\u001b[0;34m]\u001b[0m\u001b[0;34m.\u001b[0m\u001b[0msum\u001b[0m\u001b[0;34m(\u001b[0m\u001b[0;34m)\u001b[0m\u001b[0;34m,\u001b[0m \u001b[0mproducts_table\u001b[0m\u001b[0;34m[\u001b[0m\u001b[0;34m'multivariate_gr_fat'\u001b[0m\u001b[0;34m]\u001b[0m\u001b[0;34m.\u001b[0m\u001b[0msum\u001b[0m\u001b[0;34m(\u001b[0m\u001b[0;34m)\u001b[0m\u001b[0;34m,\u001b[0m \u001b[0mgram_fat\u001b[0m\u001b[0;34m]\u001b[0m\u001b[0;34m,\u001b[0m\u001b[0;34m\u001b[0m\u001b[0;34m\u001b[0m\u001b[0m\n\u001b[1;32m      5\u001b[0m     \u001b[0;34m[\u001b[0m\u001b[0mproducts_table\u001b[0m\u001b[0;34m[\u001b[0m\u001b[0;34m'univariate_gr_carb'\u001b[0m\u001b[0;34m]\u001b[0m\u001b[0;34m.\u001b[0m\u001b[0msum\u001b[0m\u001b[0;34m(\u001b[0m\u001b[0;34m)\u001b[0m\u001b[0;34m,\u001b[0m \u001b[0mproducts_table\u001b[0m\u001b[0;34m[\u001b[0m\u001b[0;34m'multivariate_gr_carb'\u001b[0m\u001b[0;34m]\u001b[0m\u001b[0;34m.\u001b[0m\u001b[0msum\u001b[0m\u001b[0;34m(\u001b[0m\u001b[0;34m)\u001b[0m\u001b[0;34m,\u001b[0m \u001b[0mgram_carb\u001b[0m\u001b[0;34m]\u001b[0m\u001b[0;34m,\u001b[0m\u001b[0;34m\u001b[0m\u001b[0;34m\u001b[0m\u001b[0m\n",
      "\u001b[0;31mNameError\u001b[0m: name 'pd' is not defined"
     ]
    }
   ],
   "source": [
    "summary = pd.DataFrame.from_records(\n",
    "[\n",
    "    [products_table['univariate_gr_prot'].sum(), products_table['multivariate_gr_prot'].sum(), gram_prot],\n",
    "    [products_table['univariate_gr_fat'].sum(), products_table['multivariate_gr_fat'].sum(), gram_fat],\n",
    "    [products_table['univariate_gr_carb'].sum(), products_table['multivariate_gr_carb'].sum(), gram_carb],\n",
    "    [products_table['univariate_cal'].sum(), products_table['multivariate_cal'].sum(), sum((cal_prot, cal_carb, cal_fat))]\n",
    "])\n",
    "summary.columns = ['univariate', 'multivariate', 'goal']\n",
    "summary.index = ['prot', 'fat', 'carb', 'cal']\n",
    "summary[\"univ_error\"] = (summary[\"goal\"] - summary[\"univariate\"]).apply(abs)\n",
    "summary[\"multiv_error\"] = (summary[\"goal\"] - summary[\"multivariate\"]).apply(abs)\n",
    "summary\n"
   ]
  }
 ],
 "metadata": {
  "kernelspec": {
   "display_name": "Python 3",
   "language": "python",
   "name": "python3"
  },
  "language_info": {
   "codemirror_mode": {
    "name": "ipython",
    "version": 3
   },
   "file_extension": ".py",
   "mimetype": "text/x-python",
   "name": "python",
   "nbconvert_exporter": "python",
   "pygments_lexer": "ipython3",
   "version": "3.8.5"
  }
 },
 "nbformat": 4,
 "nbformat_minor": 1
}
