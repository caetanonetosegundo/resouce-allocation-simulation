{
 "cells": [
  {
   "cell_type": "code",
   "execution_count": 2,
   "metadata": {},
   "outputs": [
    {
     "name": "stdout",
     "output_type": "stream",
     "text": [
      "Import Done2!\n"
     ]
    }
   ],
   "source": [
    "import pandas as pd\n",
    "import numpy as np\n",
    "import random\n",
    "from deap import base\n",
    "from deap import creator\n",
    "from deap import tools\n",
    "print(\"Import Done2!\")"
   ]
  },
  {
   "cell_type": "code",
   "execution_count": 3,
   "metadata": {
    "pycharm": {
     "name": "#%%\n"
    }
   },
   "outputs": [
    {
     "name": "stdout",
     "output_type": "stream",
     "text": [
      "Proteina 5250\n",
      "Carboidrato 8750 \n",
      "Gordura 3500 \n",
      "\n",
      "Proteina 1312.5g\n",
      "Carboidrato 2187.5g \n",
      "Gordura 388.8888888888889g \n"
     ]
    }
   ],
   "source": [
    "# Percential Objetivo\n",
    "# No caso do Truck Factor seria uma solução aceitável, onde apresentaria que a divisão de tarefas\n",
    "# permitindo o compartilhamento de conhecimento da equipe.\n",
    "total_calories = 2500 * 7\n",
    "percentage_prot = 0.3\n",
    "percentage_carb = 0.5\n",
    "percentage_fat = 0.2\n",
    "\n",
    "# compute total calories per macro\n",
    "cal_prot = round(percentage_prot * total_calories)\n",
    "cal_carb = round(percentage_carb * total_calories)\n",
    "cal_fat = round(percentage_fat * total_calories)\n",
    "print(\"Proteina {}\\nCarboidrato {} \\nGordura {} \".format(cal_prot, cal_carb, cal_fat))\n",
    "\n",
    "# fixed info on macro nutriments: calories per gram of protein, carb and fat\n",
    "prot_cal_p_gram = 4\n",
    "carb_cal_p_gram = 4\n",
    "fat_cal_p_gram = 9\n",
    "\n",
    "#goal grams\n",
    "gram_prot = cal_prot / prot_cal_p_gram\n",
    "gram_carb = cal_carb / carb_cal_p_gram\n",
    "gram_fat = cal_fat / fat_cal_p_gram\n",
    "print(\"\\nProteina {}g\\nCarboidrato {}g \\nGordura {}g \".format(gram_prot, gram_carb, gram_fat))"
   ]
  },
  {
   "cell_type": "code",
   "execution_count": 19,
   "metadata": {
    "pycharm": {
     "name": "#%%\n"
    }
   },
   "outputs": [
    {
     "data": {
      "text/plain": "                        Name  Min  Max  Calories  Gram_Prot  Gram_Fat  \\\n0                  Banana 1u    0    4        89          1         0   \n1                Mandarin 1u    0    4        40          1         0   \n2                Ananas 100g    0    7        50          1         0   \n3                Grapes 100g    0    7        76          1         0   \n4            Chocolate 1 bar    0    4       230          3        13   \n5           Hard Cheese 100g    0    8       350         28        26   \n6           Soft Cheese 100g    0    8       374         18        33   \n7                 Pesto 100g    0    8       303          3        30   \n8              Hoummous 100g    0    8       306          7        25   \n9       Aubergine Paste 100g    0    4       228          1        20   \n10             Protein Shake    0    5       160         30         3   \n11           Veggie Burger 1    0    5       220         21        12   \n12           Veggie Burger 2    0   12       165         16         9   \n13                Boiled Egg    0    8       155         13        11   \n14                Backed Egg    0   16       196         14        15   \n15       Baguette Bread Half    0    3       274         10         0   \n16      Square Bread 1 slice    0    3        97          3         1   \n17           Cheese Pizza 1u    0    3       903         36        47   \n18           Veggie Pizza 1u    0    3       766         26        35   \n19            Soy Milk 200ml    0    1       115          8         4   \n20  Soy Chocolate Milk 250ml    0    3       160          7         6   \n\n    Gram_Carb  \n0          23  \n1          10  \n2          13  \n3          17  \n4          25  \n5           2  \n6           1  \n7           4  \n8          11  \n9           8  \n10          5  \n11          3  \n12          2  \n13          1  \n14          1  \n15         52  \n16         17  \n17         81  \n18         85  \n19         11  \n20         20  ",
      "text/html": "<div>\n<style scoped>\n    .dataframe tbody tr th:only-of-type {\n        vertical-align: middle;\n    }\n\n    .dataframe tbody tr th {\n        vertical-align: top;\n    }\n\n    .dataframe thead th {\n        text-align: right;\n    }\n</style>\n<table border=\"1\" class=\"dataframe\">\n  <thead>\n    <tr style=\"text-align: right;\">\n      <th></th>\n      <th>Name</th>\n      <th>Min</th>\n      <th>Max</th>\n      <th>Calories</th>\n      <th>Gram_Prot</th>\n      <th>Gram_Fat</th>\n      <th>Gram_Carb</th>\n    </tr>\n  </thead>\n  <tbody>\n    <tr>\n      <th>0</th>\n      <td>Banana 1u</td>\n      <td>0</td>\n      <td>4</td>\n      <td>89</td>\n      <td>1</td>\n      <td>0</td>\n      <td>23</td>\n    </tr>\n    <tr>\n      <th>1</th>\n      <td>Mandarin 1u</td>\n      <td>0</td>\n      <td>4</td>\n      <td>40</td>\n      <td>1</td>\n      <td>0</td>\n      <td>10</td>\n    </tr>\n    <tr>\n      <th>2</th>\n      <td>Ananas 100g</td>\n      <td>0</td>\n      <td>7</td>\n      <td>50</td>\n      <td>1</td>\n      <td>0</td>\n      <td>13</td>\n    </tr>\n    <tr>\n      <th>3</th>\n      <td>Grapes 100g</td>\n      <td>0</td>\n      <td>7</td>\n      <td>76</td>\n      <td>1</td>\n      <td>0</td>\n      <td>17</td>\n    </tr>\n    <tr>\n      <th>4</th>\n      <td>Chocolate 1 bar</td>\n      <td>0</td>\n      <td>4</td>\n      <td>230</td>\n      <td>3</td>\n      <td>13</td>\n      <td>25</td>\n    </tr>\n    <tr>\n      <th>5</th>\n      <td>Hard Cheese 100g</td>\n      <td>0</td>\n      <td>8</td>\n      <td>350</td>\n      <td>28</td>\n      <td>26</td>\n      <td>2</td>\n    </tr>\n    <tr>\n      <th>6</th>\n      <td>Soft Cheese 100g</td>\n      <td>0</td>\n      <td>8</td>\n      <td>374</td>\n      <td>18</td>\n      <td>33</td>\n      <td>1</td>\n    </tr>\n    <tr>\n      <th>7</th>\n      <td>Pesto 100g</td>\n      <td>0</td>\n      <td>8</td>\n      <td>303</td>\n      <td>3</td>\n      <td>30</td>\n      <td>4</td>\n    </tr>\n    <tr>\n      <th>8</th>\n      <td>Hoummous 100g</td>\n      <td>0</td>\n      <td>8</td>\n      <td>306</td>\n      <td>7</td>\n      <td>25</td>\n      <td>11</td>\n    </tr>\n    <tr>\n      <th>9</th>\n      <td>Aubergine Paste 100g</td>\n      <td>0</td>\n      <td>4</td>\n      <td>228</td>\n      <td>1</td>\n      <td>20</td>\n      <td>8</td>\n    </tr>\n    <tr>\n      <th>10</th>\n      <td>Protein Shake</td>\n      <td>0</td>\n      <td>5</td>\n      <td>160</td>\n      <td>30</td>\n      <td>3</td>\n      <td>5</td>\n    </tr>\n    <tr>\n      <th>11</th>\n      <td>Veggie Burger 1</td>\n      <td>0</td>\n      <td>5</td>\n      <td>220</td>\n      <td>21</td>\n      <td>12</td>\n      <td>3</td>\n    </tr>\n    <tr>\n      <th>12</th>\n      <td>Veggie Burger 2</td>\n      <td>0</td>\n      <td>12</td>\n      <td>165</td>\n      <td>16</td>\n      <td>9</td>\n      <td>2</td>\n    </tr>\n    <tr>\n      <th>13</th>\n      <td>Boiled Egg</td>\n      <td>0</td>\n      <td>8</td>\n      <td>155</td>\n      <td>13</td>\n      <td>11</td>\n      <td>1</td>\n    </tr>\n    <tr>\n      <th>14</th>\n      <td>Backed Egg</td>\n      <td>0</td>\n      <td>16</td>\n      <td>196</td>\n      <td>14</td>\n      <td>15</td>\n      <td>1</td>\n    </tr>\n    <tr>\n      <th>15</th>\n      <td>Baguette Bread Half</td>\n      <td>0</td>\n      <td>3</td>\n      <td>274</td>\n      <td>10</td>\n      <td>0</td>\n      <td>52</td>\n    </tr>\n    <tr>\n      <th>16</th>\n      <td>Square Bread 1 slice</td>\n      <td>0</td>\n      <td>3</td>\n      <td>97</td>\n      <td>3</td>\n      <td>1</td>\n      <td>17</td>\n    </tr>\n    <tr>\n      <th>17</th>\n      <td>Cheese Pizza 1u</td>\n      <td>0</td>\n      <td>3</td>\n      <td>903</td>\n      <td>36</td>\n      <td>47</td>\n      <td>81</td>\n    </tr>\n    <tr>\n      <th>18</th>\n      <td>Veggie Pizza 1u</td>\n      <td>0</td>\n      <td>3</td>\n      <td>766</td>\n      <td>26</td>\n      <td>35</td>\n      <td>85</td>\n    </tr>\n    <tr>\n      <th>19</th>\n      <td>Soy Milk 200ml</td>\n      <td>0</td>\n      <td>1</td>\n      <td>115</td>\n      <td>8</td>\n      <td>4</td>\n      <td>11</td>\n    </tr>\n    <tr>\n      <th>20</th>\n      <td>Soy Chocolate Milk 250ml</td>\n      <td>0</td>\n      <td>3</td>\n      <td>160</td>\n      <td>7</td>\n      <td>6</td>\n      <td>20</td>\n    </tr>\n  </tbody>\n</table>\n</div>"
     },
     "execution_count": 19,
     "metadata": {},
     "output_type": "execute_result"
    }
   ],
   "source": [
    "products_table = pd.DataFrame.from_records([\n",
    "    ['Banana 1u', 0, 4, 89, 1, 0, 23],\n",
    "    ['Mandarin 1u', 0, 4, 40, 1, 0, 10],\n",
    "    ['Ananas 100g', 0, 7, 50, 1, 0, 13],\n",
    "    ['Grapes 100g', 0, 7, 76, 1, 0, 17],\n",
    "    ['Chocolate 1 bar', 0, 4, 230, 3, 13, 25],\n",
    "\n",
    "    ['Hard Cheese 100g', 0, 8, 350, 28, 26, 2],\n",
    "    ['Soft Cheese 100g', 0, 8, 374, 18, 33, 1],\n",
    "    ['Pesto 100g', 0, 8, 303, 3, 30, 4],\n",
    "    ['Hoummous 100g', 0, 8, 306, 7, 25, 11],\n",
    "    ['Aubergine Paste 100g', 0, 4, 228, 1, 20, 8],\n",
    "\n",
    "    ['Protein Shake', 0, 5, 160, 30, 3, 5],\n",
    "    ['Veggie Burger 1', 0, 5, 220, 21, 12, 3],\n",
    "    ['Veggie Burger 2', 0, 12, 165, 16, 9, 2],\n",
    "    ['Boiled Egg', 0, 8, 155, 13, 11, 1],\n",
    "    ['Backed Egg', 0, 16, 196, 14, 15, 1],\n",
    "\n",
    "    ['Baguette Bread Half', 0, 3, 274, 10, 0, 52],\n",
    "    ['Square Bread 1 slice', 0, 3, 97, 3, 1, 17],\n",
    "    ['Cheese Pizza 1u', 0, 3, 903, 36, 47, 81],\n",
    "    ['Veggie Pizza 1u', 0, 3, 766, 26, 35, 85],\n",
    "\n",
    "    ['Soy Milk 200ml', 0, 1, 115, 8, 4, 11],\n",
    "    ['Soy Chocolate Milk 250ml', 0, 3, 160, 7, 6,20],\n",
    "\n",
    "])\n",
    "products_table.columns = ['Name', 'Min', 'Max', 'Calories', 'Gram_Prot', 'Gram_Fat', 'Gram_Carb']\n",
    "products_table\n"
   ]
  },
  {
   "cell_type": "code",
   "execution_count": 7,
   "metadata": {
    "pycharm": {
     "name": "#%%\n"
    }
   },
   "outputs": [],
   "source": [
    "cal_data = products_table[['Gram_Prot', 'Gram_Fat', 'Gram_Carb']]\n",
    "prot_data = list(cal_data['Gram_Prot'])\n",
    "fat_data = list(cal_data['Gram_Fat'])\n",
    "carb_data = list(cal_data['Gram_Carb'])"
   ]
  },
  {
   "cell_type": "code",
   "execution_count": 10,
   "metadata": {
    "pycharm": {
     "name": "#%%\n"
    }
   },
   "outputs": [
    {
     "data": {
      "text/plain": "[4, 9, 6, 7, 1, 8, 1, 9, 1, 3, 9, 3, 9, 5, 3, 8, 5, 3, 4, 2, 9]"
     },
     "execution_count": 10,
     "metadata": {},
     "output_type": "execute_result"
    }
   ],
   "source": [
    "def n_per_product():\n",
    "    return random.choices( range(0, 10), k = 21)\n",
    "n_per_product()"
   ]
  },
  {
   "cell_type": "code",
   "execution_count": 12,
   "metadata": {
    "pycharm": {
     "name": "#%%\n"
    }
   },
   "outputs": [],
   "source": [
    "def evaluate(individual):\n",
    "    individual = individual[0]\n",
    "    tot_prot = sum(x*y for x,y in zip(prot_data,individual))\n",
    "    tot_fat = sum(x*y for x,y in zip(fat_data,individual))\n",
    "    tot_carb = sum(x*y for x,y in zip(carb_data,individual))\n",
    "    cals = prot_cal_p_gram * tot_prot + carb_cal_p_gram * tot_carb + fat_cal_p_gram * tot_fat\n",
    "    return abs(cals - total_calories),"
   ]
  },
  {
   "cell_type": "code",
   "execution_count": 20,
   "metadata": {
    "pycharm": {
     "name": "#%%\n"
    }
   },
   "outputs": [
    {
     "name": "stderr",
     "output_type": "stream",
     "text": [
      "/home/caetano/Repositories/resource-allocation-simulation/venv/lib/python3.8/site-packages/deap/creator.py:138: RuntimeWarning: A class named 'FitnessMin' has already been created and it will be overwritten. Consider deleting previous creation of that class or rename it.\n",
      "  warnings.warn(\"A class named '{0}' has already been created and it \"\n",
      "/home/caetano/Repositories/resource-allocation-simulation/venv/lib/python3.8/site-packages/deap/creator.py:138: RuntimeWarning: A class named 'Individual' has already been created and it will be overwritten. Consider deleting previous creation of that class or rename it.\n",
      "  warnings.warn(\"A class named '{0}' has already been created and it \"\n"
     ]
    }
   ],
   "source": [
    "creator.create(\"FitnessMin\", base.Fitness, weights=(-1.0,))\n",
    "creator.create(\"Individual\", list, fitness=creator.FitnessMin)\n",
    "\n",
    "toolbox = base.Toolbox()\n",
    "\n",
    "toolbox.register(\"n_per_product\", n_per_product)\n",
    "\n",
    "toolbox.register(\"individual\", tools.initRepeat, creator.Individual, toolbox.n_per_product, n=1)\n",
    "toolbox.register(\"population\", tools.initRepeat, list, toolbox.individual)\n",
    "\n",
    "toolbox.register(\"evaluate\", evaluate)\n",
    "toolbox.register(\"mate\", tools.cxTwoPoint)\n",
    "toolbox.register(\"mutate\", tools.mutFlipBit, indpb=0.05)\n",
    "toolbox.register(\"select\", tools.selTournament, tournsize=3)\n"
   ]
  },
  {
   "cell_type": "code",
   "execution_count": 21,
   "metadata": {
    "pycharm": {
     "name": "#%%\n"
    }
   },
   "outputs": [
    {
     "data": {
      "text/plain": "[[[5, 5, 9, 9, 2, 2, 5, 7, 0, 8, 5, 3, 7, 7, 6, 6, 3, 6, 3, 2, 1]],\n [[1, 7, 5, 6, 6, 0, 2, 8, 4, 0, 3, 0, 0, 1, 4, 5, 6, 2, 9, 2, 4]],\n [[3, 3, 2, 3, 1, 3, 8, 3, 0, 4, 1, 5, 7, 0, 4, 9, 6, 8, 5, 7, 7]],\n [[7, 6, 3, 1, 8, 0, 5, 9, 3, 0, 5, 8, 3, 0, 2, 5, 9, 5, 0, 6, 6]],\n [[8, 2, 9, 9, 1, 0, 9, 5, 5, 7, 5, 2, 3, 8, 5, 2, 6, 7, 6, 6, 2]],\n [[7, 9, 9, 2, 2, 5, 6, 0, 9, 7, 5, 5, 7, 1, 4, 0, 7, 3, 2, 7, 7]],\n [[8, 9, 5, 7, 7, 0, 4, 1, 1, 4, 6, 6, 1, 6, 9, 3, 7, 8, 6, 8, 9]],\n [[7, 9, 4, 3, 5, 9, 2, 3, 6, 5, 0, 4, 7, 5, 9, 1, 1, 4, 1, 3, 8]],\n [[0, 0, 6, 6, 8, 2, 8, 5, 9, 4, 1, 3, 1, 9, 4, 3, 3, 4, 5, 0, 0]],\n [[3, 4, 2, 8, 8, 4, 3, 3, 8, 9, 8, 2, 9, 1, 5, 4, 3, 4, 3, 2, 1]]]"
     },
     "execution_count": 21,
     "metadata": {},
     "output_type": "execute_result"
    }
   ],
   "source": [
    "toolbox.population(n=10)\n"
   ]
  },
  {
   "cell_type": "code",
   "execution_count": 14,
   "metadata": {
    "pycharm": {
     "name": "#%%\n"
    }
   },
   "outputs": [
    {
     "name": "stdout",
     "output_type": "stream",
     "text": [
      "Done\n"
     ]
    }
   ],
   "source": [
    "def main():\n",
    "    pop = toolbox.population(n=300)\n",
    "\n",
    "    # Evaluate the entire population\n",
    "    fitnesses = list(map(toolbox.evaluate, pop))\n",
    "    for ind, fit in zip(pop, fitnesses):\n",
    "        ind.fitness.values = fit\n",
    "\n",
    "    # CXPB  is the probability with which two individuals\n",
    "    #       are crossed\n",
    "    #\n",
    "    # MUTPB is the probability for mutating an individual\n",
    "    CXPB, MUTPB = 0.5, 0.2\n",
    "\n",
    "    # Extracting all the fitnesses of\n",
    "    fits = [ind.fitness.values[0] for ind in pop]\n",
    "\n",
    "    # Variable keeping track of the number of generations\n",
    "    g = 0\n",
    "\n",
    "    # Begin the evolution\n",
    "    while g < 5000:\n",
    "        # A new generation\n",
    "        g = g + 1\n",
    "        #print(\"-- Generation %i --\" % g)\n",
    "\n",
    "        # Select the next generation individuals\n",
    "        offspring = toolbox.select(pop, len(pop))\n",
    "        # Clone the selected individuals\n",
    "        offspring = list(map(toolbox.clone, offspring))\n",
    "\n",
    "        # Apply crossover and mutation on the offspring\n",
    "        for child1, child2 in zip(offspring[::2], offspring[1::2]):\n",
    "            if random.random() < CXPB:\n",
    "                toolbox.mate(child1[0], child2[0])\n",
    "                del child1.fitness.values\n",
    "                del child2.fitness.values\n",
    "\n",
    "        for mutant in offspring:\n",
    "            if random.random() < MUTPB:\n",
    "                toolbox.mutate(mutant[0])\n",
    "                del mutant.fitness.values\n",
    "\n",
    "        # Evaluate the individuals with an invalid fitness\n",
    "        invalid_ind = [ind for ind in offspring if not ind.fitness.valid]\n",
    "        fitnesses = map(toolbox.evaluate, invalid_ind)\n",
    "        for ind, fit in zip(invalid_ind, fitnesses):\n",
    "            ind.fitness.values = fit\n",
    "\n",
    "        pop[:] = offspring\n",
    "\n",
    "        # Gather all the fitnesses in one list and print the stats\n",
    "        fits = [ind.fitness.values[0] for ind in pop]\n",
    "\n",
    "        length = len(pop)\n",
    "        mean = sum(fits) / length\n",
    "        sum2 = sum(x*x for x in fits)\n",
    "        std = abs(sum2 / length - mean**2)**0.5\n",
    "\n",
    "        #print(min(fits), max(fits), mean, std)\n",
    "\n",
    "    best = pop[np.argmin([toolbox.evaluate(x) for x in pop])]\n",
    "    return best\n",
    "print(\"Done\")"
   ]
  },
  {
   "cell_type": "code",
   "execution_count": 15,
   "metadata": {
    "pycharm": {
     "name": "#%%\n"
    }
   },
   "outputs": [
    {
     "ename": "KeyboardInterrupt",
     "evalue": "",
     "output_type": "error",
     "traceback": [
      "\u001B[0;31m---------------------------------------------------------------------------\u001B[0m",
      "\u001B[0;31mKeyboardInterrupt\u001B[0m                         Traceback (most recent call last)",
      "\u001B[0;32m<ipython-input-15-13a442f6ceb7>\u001B[0m in \u001B[0;36m<module>\u001B[0;34m\u001B[0m\n\u001B[0;32m----> 1\u001B[0;31m \u001B[0mbest_solution\u001B[0m \u001B[0;34m=\u001B[0m \u001B[0mmain\u001B[0m\u001B[0;34m(\u001B[0m\u001B[0;34m)\u001B[0m\u001B[0;34m\u001B[0m\u001B[0;34m\u001B[0m\u001B[0m\n\u001B[0m\u001B[1;32m      2\u001B[0m \u001B[0mprint\u001B[0m\u001B[0;34m(\u001B[0m\u001B[0;34m\"Done\"\u001B[0m\u001B[0;34m)\u001B[0m\u001B[0;34m\u001B[0m\u001B[0;34m\u001B[0m\u001B[0m\n\u001B[1;32m      3\u001B[0m \u001B[0;34m\u001B[0m\u001B[0m\n",
      "\u001B[0;32m<ipython-input-14-3591d4863af9>\u001B[0m in \u001B[0;36mmain\u001B[0;34m()\u001B[0m\n\u001B[1;32m     51\u001B[0m \u001B[0;34m\u001B[0m\u001B[0m\n\u001B[1;32m     52\u001B[0m         \u001B[0;31m# Gather all the fitnesses in one list and print the stats\u001B[0m\u001B[0;34m\u001B[0m\u001B[0;34m\u001B[0m\u001B[0;34m\u001B[0m\u001B[0m\n\u001B[0;32m---> 53\u001B[0;31m         \u001B[0mfits\u001B[0m \u001B[0;34m=\u001B[0m \u001B[0;34m[\u001B[0m\u001B[0mind\u001B[0m\u001B[0;34m.\u001B[0m\u001B[0mfitness\u001B[0m\u001B[0;34m.\u001B[0m\u001B[0mvalues\u001B[0m\u001B[0;34m[\u001B[0m\u001B[0;36m0\u001B[0m\u001B[0;34m]\u001B[0m \u001B[0;32mfor\u001B[0m \u001B[0mind\u001B[0m \u001B[0;32min\u001B[0m \u001B[0mpop\u001B[0m\u001B[0;34m]\u001B[0m\u001B[0;34m\u001B[0m\u001B[0;34m\u001B[0m\u001B[0m\n\u001B[0m\u001B[1;32m     54\u001B[0m \u001B[0;34m\u001B[0m\u001B[0m\n\u001B[1;32m     55\u001B[0m         \u001B[0mlength\u001B[0m \u001B[0;34m=\u001B[0m \u001B[0mlen\u001B[0m\u001B[0;34m(\u001B[0m\u001B[0mpop\u001B[0m\u001B[0;34m)\u001B[0m\u001B[0;34m\u001B[0m\u001B[0;34m\u001B[0m\u001B[0m\n",
      "\u001B[0;32m<ipython-input-14-3591d4863af9>\u001B[0m in \u001B[0;36m<listcomp>\u001B[0;34m(.0)\u001B[0m\n\u001B[1;32m     51\u001B[0m \u001B[0;34m\u001B[0m\u001B[0m\n\u001B[1;32m     52\u001B[0m         \u001B[0;31m# Gather all the fitnesses in one list and print the stats\u001B[0m\u001B[0;34m\u001B[0m\u001B[0;34m\u001B[0m\u001B[0;34m\u001B[0m\u001B[0m\n\u001B[0;32m---> 53\u001B[0;31m         \u001B[0mfits\u001B[0m \u001B[0;34m=\u001B[0m \u001B[0;34m[\u001B[0m\u001B[0mind\u001B[0m\u001B[0;34m.\u001B[0m\u001B[0mfitness\u001B[0m\u001B[0;34m.\u001B[0m\u001B[0mvalues\u001B[0m\u001B[0;34m[\u001B[0m\u001B[0;36m0\u001B[0m\u001B[0;34m]\u001B[0m \u001B[0;32mfor\u001B[0m \u001B[0mind\u001B[0m \u001B[0;32min\u001B[0m \u001B[0mpop\u001B[0m\u001B[0;34m]\u001B[0m\u001B[0;34m\u001B[0m\u001B[0;34m\u001B[0m\u001B[0m\n\u001B[0m\u001B[1;32m     54\u001B[0m \u001B[0;34m\u001B[0m\u001B[0m\n\u001B[1;32m     55\u001B[0m         \u001B[0mlength\u001B[0m \u001B[0;34m=\u001B[0m \u001B[0mlen\u001B[0m\u001B[0;34m(\u001B[0m\u001B[0mpop\u001B[0m\u001B[0;34m)\u001B[0m\u001B[0;34m\u001B[0m\u001B[0;34m\u001B[0m\u001B[0m\n",
      "\u001B[0;32m~/Repositories/resource-allocation-simulation/venv/lib/python3.8/site-packages/deap/base.py\u001B[0m in \u001B[0;36mgetValues\u001B[0;34m(self)\u001B[0m\n\u001B[1;32m    183\u001B[0m \u001B[0;34m\u001B[0m\u001B[0m\n\u001B[1;32m    184\u001B[0m     \u001B[0;32mdef\u001B[0m \u001B[0mgetValues\u001B[0m\u001B[0;34m(\u001B[0m\u001B[0mself\u001B[0m\u001B[0;34m)\u001B[0m\u001B[0;34m:\u001B[0m\u001B[0;34m\u001B[0m\u001B[0;34m\u001B[0m\u001B[0m\n\u001B[0;32m--> 185\u001B[0;31m         \u001B[0;32mreturn\u001B[0m \u001B[0mtuple\u001B[0m\u001B[0;34m(\u001B[0m\u001B[0mmap\u001B[0m\u001B[0;34m(\u001B[0m\u001B[0mtruediv\u001B[0m\u001B[0;34m,\u001B[0m \u001B[0mself\u001B[0m\u001B[0;34m.\u001B[0m\u001B[0mwvalues\u001B[0m\u001B[0;34m,\u001B[0m \u001B[0mself\u001B[0m\u001B[0;34m.\u001B[0m\u001B[0mweights\u001B[0m\u001B[0;34m)\u001B[0m\u001B[0;34m)\u001B[0m\u001B[0;34m\u001B[0m\u001B[0;34m\u001B[0m\u001B[0m\n\u001B[0m\u001B[1;32m    186\u001B[0m \u001B[0;34m\u001B[0m\u001B[0m\n\u001B[1;32m    187\u001B[0m     \u001B[0;32mdef\u001B[0m \u001B[0msetValues\u001B[0m\u001B[0;34m(\u001B[0m\u001B[0mself\u001B[0m\u001B[0;34m,\u001B[0m \u001B[0mvalues\u001B[0m\u001B[0;34m)\u001B[0m\u001B[0;34m:\u001B[0m\u001B[0;34m\u001B[0m\u001B[0;34m\u001B[0m\u001B[0m\n",
      "\u001B[0;31mKeyboardInterrupt\u001B[0m: "
     ]
    }
   ],
   "source": [
    "best_solution = main()\n",
    "print(\"Done\")"
   ]
  },
  {
   "cell_type": "code",
   "execution_count": null,
   "metadata": {
    "pycharm": {
     "name": "#%%\n"
    }
   },
   "outputs": [],
   "source": [
    "products_table['univariate_choice'] = pd.Series(best_solution[0])\n",
    "products_table"
   ]
  },
  {
   "cell_type": "code",
   "execution_count": null,
   "metadata": {
    "pycharm": {
     "name": "#%%\n",
     "is_executing": true
    }
   },
   "outputs": [],
   "source": [
    "products_table['univariate_gr_prot'] = products_table['univariate_choice'] * products_table['Gram_Prot']\n",
    "products_table['univariate_gr_fat'] = products_table['univariate_choice'] * products_table['Gram_Fat']\n",
    "products_table['univariate_gr_carb'] = products_table['univariate_choice'] * products_table['Gram_Carb']\n",
    "products_table['univariate_cal'] = products_table['univariate_choice'] * products_table['Calories']\n",
    "print(\"Done\")"
   ]
  },
  {
   "cell_type": "code",
   "execution_count": null,
   "metadata": {
    "pycharm": {
     "name": "#%%\n",
     "is_executing": true
    }
   },
   "outputs": [],
   "source": [
    "summary = pd.DataFrame.from_records(\n",
    "[\n",
    "    [products_table['univariate_gr_prot'].sum(), gram_prot],\n",
    "    [products_table['univariate_gr_fat'].sum(), gram_fat],\n",
    "    [products_table['univariate_gr_carb'].sum(), gram_carb],\n",
    "    [products_table['univariate_cal'].sum(), sum((cal_prot, cal_carb, cal_fat))]\n",
    "])\n",
    "summary.columns = ['univariate', 'goal']\n",
    "summary.index = ['prot', 'fat', 'carb', 'cal']\n",
    "summary[\"univ_error\"] = (summary[\"goal\"] - summary[\"univariate\"]).apply(abs)\n",
    "summary\n"
   ]
  }
 ],
 "metadata": {
  "kernelspec": {
   "display_name": "Python 3",
   "language": "python",
   "name": "python3"
  },
  "language_info": {
   "codemirror_mode": {
    "name": "ipython",
    "version": 3
   },
   "file_extension": ".py",
   "mimetype": "text/x-python",
   "name": "python",
   "nbconvert_exporter": "python",
   "pygments_lexer": "ipython3",
   "version": "3.8.5"
  }
 },
 "nbformat": 4,
 "nbformat_minor": 1
}