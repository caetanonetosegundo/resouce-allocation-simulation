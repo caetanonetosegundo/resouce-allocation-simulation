{
 "cells": [
  {
   "cell_type": "code",
   "execution_count": 1,
   "outputs": [
    {
     "name": "stdout",
     "output_type": "stream",
     "text": [
      "Import Done!\n"
     ]
    }
   ],
   "source": [
    "import pandas as pd\n",
    "import numpy as np\n",
    "import random\n",
    "from deap import base\n",
    "from deap import creator\n",
    "from deap import tools\n",
    "print(\"Import Done!\")"
   ],
   "metadata": {
    "collapsed": false,
    "pycharm": {
     "name": "#%%\n"
    }
   }
  },
  {
   "cell_type": "code",
   "execution_count": 2,
   "outputs": [
    {
     "data": {
      "text/plain": "      Name  K0  K1  K2  K3  K4  K5\n0  Agent 0   4   4   9   1   0  23\n1  Agent 1   2   4   4   1   0  10\n2  Agent 2   8   3   9  26  35  85\n3  Agent 3   3   1   4   8   4  11\n4  Agent 4   9   3   6   7   6  20\n5  Agent 5   0   3   8   7   6  20",
      "text/html": "<div>\n<style scoped>\n    .dataframe tbody tr th:only-of-type {\n        vertical-align: middle;\n    }\n\n    .dataframe tbody tr th {\n        vertical-align: top;\n    }\n\n    .dataframe thead th {\n        text-align: right;\n    }\n</style>\n<table border=\"1\" class=\"dataframe\">\n  <thead>\n    <tr style=\"text-align: right;\">\n      <th></th>\n      <th>Name</th>\n      <th>K0</th>\n      <th>K1</th>\n      <th>K2</th>\n      <th>K3</th>\n      <th>K4</th>\n      <th>K5</th>\n    </tr>\n  </thead>\n  <tbody>\n    <tr>\n      <th>0</th>\n      <td>Agent 0</td>\n      <td>4</td>\n      <td>4</td>\n      <td>9</td>\n      <td>1</td>\n      <td>0</td>\n      <td>23</td>\n    </tr>\n    <tr>\n      <th>1</th>\n      <td>Agent 1</td>\n      <td>2</td>\n      <td>4</td>\n      <td>4</td>\n      <td>1</td>\n      <td>0</td>\n      <td>10</td>\n    </tr>\n    <tr>\n      <th>2</th>\n      <td>Agent 2</td>\n      <td>8</td>\n      <td>3</td>\n      <td>9</td>\n      <td>26</td>\n      <td>35</td>\n      <td>85</td>\n    </tr>\n    <tr>\n      <th>3</th>\n      <td>Agent 3</td>\n      <td>3</td>\n      <td>1</td>\n      <td>4</td>\n      <td>8</td>\n      <td>4</td>\n      <td>11</td>\n    </tr>\n    <tr>\n      <th>4</th>\n      <td>Agent 4</td>\n      <td>9</td>\n      <td>3</td>\n      <td>6</td>\n      <td>7</td>\n      <td>6</td>\n      <td>20</td>\n    </tr>\n    <tr>\n      <th>5</th>\n      <td>Agent 5</td>\n      <td>0</td>\n      <td>3</td>\n      <td>8</td>\n      <td>7</td>\n      <td>6</td>\n      <td>20</td>\n    </tr>\n  </tbody>\n</table>\n</div>"
     },
     "execution_count": 2,
     "metadata": {},
     "output_type": "execute_result"
    }
   ],
   "source": [
    "agents_table = pd.DataFrame.from_records([\n",
    "    ['Agent 0', 4, 4, 9, 1, 0, 23],\n",
    "    ['Agent 1', 2, 4, 4, 1, 0, 10],\n",
    "    ['Agent 2', 8, 3, 9, 26, 35, 85],\n",
    "    ['Agent 3', 3, 1, 4, 8, 4, 11],\n",
    "    ['Agent 4', 9, 3, 6, 7, 6,20],\n",
    "    ['Agent 5', 0, 3, 8, 7, 6,20],\n",
    "])\n",
    "agents_table.columns = ['Name', 'K0', 'K1', 'K2', 'K3', 'K4', 'K5']\n",
    "agents_table"
   ],
   "metadata": {
    "collapsed": false,
    "pycharm": {
     "name": "#%%\n"
    }
   }
  },
  {
   "cell_type": "code",
   "execution_count": 3,
   "outputs": [
    {
     "data": {
      "text/plain": "       Name  R0  R1  R2  R3  R4  R5\n0    Task 0   4   4   9   1   0  23\n1    Task 1   2   4   4   1   0  10\n2    Task 2   8   3   9  26  35  85\n3    Task 3   3   1   4   8   4  11\n4    Task 4   9   3   6   7   6  20\n5    Task 5   9   3   6   7   6  20\n6    Task 6   9   3   6   7   6  20\n7    Task 7   9   3   6   7   6  20\n8    Task 8   9   3   6   7   6  20\n9    Task 9   9   3   6   7   6  20\n10  Task 10   0   3   8   7   6  20",
      "text/html": "<div>\n<style scoped>\n    .dataframe tbody tr th:only-of-type {\n        vertical-align: middle;\n    }\n\n    .dataframe tbody tr th {\n        vertical-align: top;\n    }\n\n    .dataframe thead th {\n        text-align: right;\n    }\n</style>\n<table border=\"1\" class=\"dataframe\">\n  <thead>\n    <tr style=\"text-align: right;\">\n      <th></th>\n      <th>Name</th>\n      <th>R0</th>\n      <th>R1</th>\n      <th>R2</th>\n      <th>R3</th>\n      <th>R4</th>\n      <th>R5</th>\n    </tr>\n  </thead>\n  <tbody>\n    <tr>\n      <th>0</th>\n      <td>Task 0</td>\n      <td>4</td>\n      <td>4</td>\n      <td>9</td>\n      <td>1</td>\n      <td>0</td>\n      <td>23</td>\n    </tr>\n    <tr>\n      <th>1</th>\n      <td>Task 1</td>\n      <td>2</td>\n      <td>4</td>\n      <td>4</td>\n      <td>1</td>\n      <td>0</td>\n      <td>10</td>\n    </tr>\n    <tr>\n      <th>2</th>\n      <td>Task 2</td>\n      <td>8</td>\n      <td>3</td>\n      <td>9</td>\n      <td>26</td>\n      <td>35</td>\n      <td>85</td>\n    </tr>\n    <tr>\n      <th>3</th>\n      <td>Task 3</td>\n      <td>3</td>\n      <td>1</td>\n      <td>4</td>\n      <td>8</td>\n      <td>4</td>\n      <td>11</td>\n    </tr>\n    <tr>\n      <th>4</th>\n      <td>Task 4</td>\n      <td>9</td>\n      <td>3</td>\n      <td>6</td>\n      <td>7</td>\n      <td>6</td>\n      <td>20</td>\n    </tr>\n    <tr>\n      <th>5</th>\n      <td>Task 5</td>\n      <td>9</td>\n      <td>3</td>\n      <td>6</td>\n      <td>7</td>\n      <td>6</td>\n      <td>20</td>\n    </tr>\n    <tr>\n      <th>6</th>\n      <td>Task 6</td>\n      <td>9</td>\n      <td>3</td>\n      <td>6</td>\n      <td>7</td>\n      <td>6</td>\n      <td>20</td>\n    </tr>\n    <tr>\n      <th>7</th>\n      <td>Task 7</td>\n      <td>9</td>\n      <td>3</td>\n      <td>6</td>\n      <td>7</td>\n      <td>6</td>\n      <td>20</td>\n    </tr>\n    <tr>\n      <th>8</th>\n      <td>Task 8</td>\n      <td>9</td>\n      <td>3</td>\n      <td>6</td>\n      <td>7</td>\n      <td>6</td>\n      <td>20</td>\n    </tr>\n    <tr>\n      <th>9</th>\n      <td>Task 9</td>\n      <td>9</td>\n      <td>3</td>\n      <td>6</td>\n      <td>7</td>\n      <td>6</td>\n      <td>20</td>\n    </tr>\n    <tr>\n      <th>10</th>\n      <td>Task 10</td>\n      <td>0</td>\n      <td>3</td>\n      <td>8</td>\n      <td>7</td>\n      <td>6</td>\n      <td>20</td>\n    </tr>\n  </tbody>\n</table>\n</div>"
     },
     "execution_count": 3,
     "metadata": {},
     "output_type": "execute_result"
    }
   ],
   "source": [
    "tasks_table = pd.DataFrame.from_records([\n",
    "    ['Task 0', 4, 4, 9, 1, 0, 23],\n",
    "    ['Task 1', 2, 4, 4, 1, 0, 10],\n",
    "    ['Task 2', 8, 3, 9, 26, 35, 85],\n",
    "    ['Task 3', 3, 1, 4, 8, 4, 11],\n",
    "    ['Task 4', 9, 3, 6, 7, 6,20],\n",
    "    ['Task 5', 9, 3, 6, 7, 6,20],\n",
    "    ['Task 6', 9, 3, 6, 7, 6,20],\n",
    "    ['Task 7', 9, 3, 6, 7, 6,20],\n",
    "    ['Task 8', 9, 3, 6, 7, 6,20],\n",
    "    ['Task 9', 9, 3, 6, 7, 6,20],\n",
    "    ['Task 10', 0, 3, 8, 7, 6,20],\n",
    "])\n",
    "tasks_table.columns = ['Name', 'R0', 'R1', 'R2', 'R3', 'R4', 'R5']\n",
    "tasks_table"
   ],
   "metadata": {
    "collapsed": false,
    "pycharm": {
     "name": "#%%\n"
    }
   }
  },
  {
   "cell_type": "code",
   "execution_count": 4,
   "outputs": [
    {
     "data": {
      "text/plain": "[0, 3, 4, 0, 1, 3, 1, 2, 3, 5, 2]"
     },
     "execution_count": 4,
     "metadata": {},
     "output_type": "execute_result"
    }
   ],
   "source": [
    "def chromosome():\n",
    "    return random.choices( range(0, len(agents_table)), k = len(tasks_table))\n",
    "chromosome()"
   ],
   "metadata": {
    "collapsed": false,
    "pycharm": {
     "name": "#%%\n"
    }
   }
  },
  {
   "cell_type": "code",
   "execution_count": 5,
   "outputs": [
    {
     "name": "stdout",
     "output_type": "stream",
     "text": [
      "Done!\n"
     ]
    }
   ],
   "source": [
    "def evaluate(individual):\n",
    "    individual = individual[0]\n",
    "    result_list = []\n",
    "    for i in range(len(individual)):\n",
    "        agent_skills = list(agents_table.iloc[individual[i],1:agents_table.shape[1]])\n",
    "        skills_required = list(tasks_table.iloc[individual[i],1:tasks_table.shape[1]])\n",
    "        result_list.append(\n",
    "                round(np.var(\n",
    "                    [x + y for x, y in zip(agent_skills, skills_required)]))\n",
    "        )\n",
    "    return result_list\n",
    "print(\"Done!\")"
   ],
   "metadata": {
    "collapsed": false,
    "pycharm": {
     "name": "#%%\n"
    }
   }
  },
  {
   "cell_type": "code",
   "execution_count": 6,
   "outputs": [
    {
     "name": "stdout",
     "output_type": "stream",
     "text": [
      "Done!\n"
     ]
    }
   ],
   "source": [
    "creator.create(\"FitnessMin\", base.Fitness, weights=(-1.0,))\n",
    "creator.create(\"Individual\", list, fitness=creator.FitnessMin)\n",
    "\n",
    "toolbox = base.Toolbox()\n",
    "\n",
    "toolbox.register(\"chromosome\", chromosome)\n",
    "toolbox.register(\"individual\", tools.initRepeat, creator.Individual, toolbox.chromosome, n=1)\n",
    "toolbox.register(\"population\", tools.initRepeat, list, toolbox.individual)\n",
    "\n",
    "toolbox.register(\"evaluate\", evaluate)\n",
    "toolbox.register(\"mate\", tools.cxTwoPoint)\n",
    "toolbox.register(\"mutate\", tools.mutFlipBit, indpb=0.05)\n",
    "toolbox.register(\"select\", tools.selTournament, tournsize=3)\n",
    "\n",
    "print('Done!')"
   ],
   "metadata": {
    "collapsed": false,
    "pycharm": {
     "name": "#%%\n"
    }
   }
  },
  {
   "cell_type": "code",
   "execution_count": 21,
   "outputs": [
    {
     "name": "stdout",
     "output_type": "stream",
     "text": [
      "[45, 42, 125, 118, 42, 118, 242, 3125, 118, 45, 3125]\n",
      "2.6363636363636362\n"
     ]
    }
   ],
   "source": [
    "pop = toolbox.population(n=1)\n",
    "pop\n",
    "print(evaluate(pop[0]))\n",
    "print(np.mean(pop[0]))"
   ],
   "metadata": {
    "collapsed": false,
    "pycharm": {
     "name": "#%%\n"
    }
   }
  },
  {
   "cell_type": "code",
   "execution_count": 10,
   "outputs": [
    {
     "name": "stdout",
     "output_type": "stream",
     "text": [
      "Done\n"
     ]
    }
   ],
   "source": [
    "def main():\n",
    "    pop = toolbox.population(n=300)\n",
    "\n",
    "    # Evaluate the entire population\n",
    "    fitnesses = list(map(toolbox.evaluate, pop))\n",
    "    for ind, fit in zip(pop, fitnesses):\n",
    "        ind.fitness.values = fit\n",
    "\n",
    "    # CXPB  is the probability with which two individuals\n",
    "    #       are crossed\n",
    "    #\n",
    "    # MUTPB is the probability for mutating an individual\n",
    "    CXPB, MUTPB = 0.5, 0.2\n",
    "\n",
    "    # Extracting all the fitnesses of\n",
    "    fits = [ind.fitness.values[0] for ind in pop]\n",
    "\n",
    "    # Variable keeping track of the number of generations\n",
    "    g = 0\n",
    "\n",
    "    # Begin the evolution\n",
    "    while g < 100:\n",
    "        # A new generation\n",
    "        g = g + 1\n",
    "        #print(\"-- Generation %i --\" % g)\n",
    "\n",
    "        # Select the next generation individuals\n",
    "        offspring = toolbox.select(pop, len(pop))\n",
    "        # Clone the selected individuals\n",
    "        offspring = list(map(toolbox.clone, offspring))\n",
    "\n",
    "        # Apply crossover and mutation on the offspring\n",
    "        for child1, child2 in zip(offspring[::2], offspring[1::2]):\n",
    "            if random.random() < CXPB:\n",
    "                toolbox.mate(child1[0], child2[0])\n",
    "                del child1.fitness.values\n",
    "                del child2.fitness.values\n",
    "\n",
    "        for mutant in offspring:\n",
    "            if random.random() < MUTPB:\n",
    "                toolbox.mutate(mutant[0])\n",
    "                del mutant.fitness.values\n",
    "\n",
    "        # Evaluate the individuals with an invalid fitness\n",
    "        invalid_ind = [ind for ind in offspring if not ind.fitness.valid]\n",
    "        fitnesses = map(toolbox.evaluate, invalid_ind)\n",
    "        for ind, fit in zip(invalid_ind, fitnesses):\n",
    "            ind.fitness.values = fit\n",
    "\n",
    "        pop[:] = offspring\n",
    "\n",
    "        # Gather all the fitnesses in one list and print the stats\n",
    "        fits = [ind.fitness.values[0] for ind in pop]\n",
    "\n",
    "        length = len(pop)\n",
    "        mean = sum(fits) / length\n",
    "        sum2 = sum(x*x for x in fits)\n",
    "        std = abs(sum2 / length - mean**2)**0.5\n",
    "\n",
    "        #print(min(fits), max(fits), mean, std)\n",
    "\n",
    "    best = pop[np.argmin([toolbox.evaluate(x) for x in pop])]\n",
    "    return best\n",
    "print(\"Done\")"
   ],
   "metadata": {
    "collapsed": false,
    "pycharm": {
     "name": "#%%\n"
    }
   }
  },
  {
   "cell_type": "code",
   "execution_count": 11,
   "outputs": [
    {
     "name": "stdout",
     "output_type": "stream",
     "text": [
      "[1, 0, 0, 2, 2, 4, 0, 0, 1, 2, 1]\n",
      "1.1818181818181819\n",
      "Done\n"
     ]
    }
   ],
   "source": [
    "best_solution = main()\n",
    "print(best_solution[0])\n",
    "print(np.mean(best_solution[0]))\n",
    "print(\"Done\")"
   ],
   "metadata": {
    "collapsed": false,
    "pycharm": {
     "name": "#%%\n"
    }
   }
  }
 ],
 "metadata": {
  "kernelspec": {
   "display_name": "Python 3",
   "language": "python",
   "name": "python3"
  },
  "language_info": {
   "codemirror_mode": {
    "name": "ipython",
    "version": 2
   },
   "file_extension": ".py",
   "mimetype": "text/x-python",
   "name": "python",
   "nbconvert_exporter": "python",
   "pygments_lexer": "ipython2",
   "version": "2.7.6"
  }
 },
 "nbformat": 4,
 "nbformat_minor": 0
}